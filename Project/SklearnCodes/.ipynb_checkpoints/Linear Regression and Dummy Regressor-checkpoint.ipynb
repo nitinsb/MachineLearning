{
 "cells": [
  {
   "cell_type": "markdown",
   "id": "5d99fbcf",
   "metadata": {},
   "source": [
    "#Overview\n",
    "- How to build baseline regression model?\n",
    "- How is Linear Regression model Trained?\n",
    "    - SGDRegressor Estimator and random seed\n",
    "    - feature scaling for SGDRegressor?\n",
    "    - Shuffle and learning Rate.\n",
    "    - Set Epochs\n",
    "    - Stoping Creteria\n",
    "    - Loss\n",
    "    - Avg SGD\n",
    "    - Intilisation\n",
    "    - Access weights\n",
    "    - Prediction"
   ]
  },
  {
   "cell_type": "code",
   "execution_count": null,
   "id": "c316fe60",
   "metadata": {},
   "outputs": [],
   "source": []
  }
 ],
 "metadata": {
  "kernelspec": {
   "display_name": "Python 3 (ipykernel)",
   "language": "python",
   "name": "python3"
  },
  "language_info": {
   "codemirror_mode": {
    "name": "ipython",
    "version": 3
   },
   "file_extension": ".py",
   "mimetype": "text/x-python",
   "name": "python",
   "nbconvert_exporter": "python",
   "pygments_lexer": "ipython3",
   "version": "3.10.12"
  }
 },
 "nbformat": 4,
 "nbformat_minor": 5
}
