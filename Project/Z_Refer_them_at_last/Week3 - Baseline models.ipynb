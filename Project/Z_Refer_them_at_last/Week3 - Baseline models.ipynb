{
 "cells": [
  {
   "cell_type": "markdown",
   "metadata": {},
   "source": [
    "# Baseline Models\n",
    "\n",
    "Baseline models made by using `DummyRegression` and `permutation_test_score`."
   ]
  },
  {
   "cell_type": "code",
   "execution_count": 1,
   "metadata": {},
   "outputs": [],
   "source": [
    "#Imports\n",
    "\n",
    "import pandas as pd\n",
    "import matplotlib.pyplot as plt\n",
    "\n",
    "from sklearn.datasets import fetch_california_housing\n",
    "from sklearn.dummy import DummyRegressor\n",
    "\n",
    "from sklearn.linear_model import LinearRegression\n",
    "\n",
    "from sklearn.model_selection import cross_validate\n",
    "from sklearn.model_selection import ShuffleSplit\n",
    "from sklearn.model_selection import permutation_test_score\n",
    "from sklearn.model_selection import train_test_split\n",
    "\n",
    "from sklearn.pipeline import Pipeline\n",
    "from sklearn.preprocessing import StandardScaler"
   ]
  },
  {
   "cell_type": "code",
   "execution_count": 2,
   "metadata": {},
   "outputs": [],
   "source": [
    "shuffle_split_cv = ShuffleSplit(n_splits=10, test_size=0.2, random_state=0)"
   ]
  },
  {
   "cell_type": "markdown",
   "metadata": {},
   "source": [
    "Let's load the data and split into training and test"
   ]
  },
  {
   "cell_type": "code",
   "execution_count": 3,
   "metadata": {},
   "outputs": [],
   "source": [
    "features, labels = fetch_california_housing(as_frame=True, return_X_y=True)\n",
    "train_features, test_features, train_labels, test_labels = train_test_split(features, labels, random_state=42)"
   ]
  },
  {
   "cell_type": "markdown",
   "metadata": {},
   "source": [
    "## `LinearRegression` "
   ]
  },
  {
   "cell_type": "code",
   "execution_count": 4,
   "metadata": {},
   "outputs": [],
   "source": [
    "lin_reg_pipeline = Pipeline([(\"feature_scaling\", StandardScaler()),\n",
    "                                (\"lin_reg\", LinearRegression())])\n",
    "\n",
    "lin_reg_cv_results = cross_validate(lin_reg_pipeline, train_features,\n",
    "                                    train_labels, cv=shuffle_split_cv,\n",
    "                                    scoring=\"neg_mean_squared_error\",\n",
    "                                    n_jobs=2)\n",
    "\n",
    "lin_reg_errors = pd.Series(-lin_reg_cv_results[\"test_score\"],\n",
    "                            name=\"Linear regression error\")"
   ]
  },
  {
   "cell_type": "markdown",
   "metadata": {},
   "source": [
    "## `DummyRegressor`"
   ]
  },
  {
   "cell_type": "code",
   "execution_count": 5,
   "metadata": {},
   "outputs": [],
   "source": [
    "def dummy_regressor_baseline(strategy, constant_val=None, quantile_val=None):\n",
    "    \n",
    "    baseline_model_median = DummyRegressor(strategy=strategy,\n",
    "                                            constant=constant_val,\n",
    "                                            quantile=quantile_val)\n",
    "\n",
    "    baseline_median_cv_results = cross_validate(baseline_model_median,\n",
    "                                                train_features, train_labels,\n",
    "                                                cv=shuffle_split_cv,\n",
    "                                                scoring=\"neg_mean_absolute_error\",\n",
    "                                                n_jobs=2)\n",
    "    \n",
    "    return pd.Series(-baseline_median_cv_results[\"test_score\"],\n",
    "                            name=\"Dummy regressor error\")"
   ]
  },
  {
   "cell_type": "code",
   "execution_count": 6,
   "metadata": {},
   "outputs": [],
   "source": [
    "baseline_median_cv_results_error = dummy_regressor_baseline(strategy = 'median')\n",
    "baseline_mean_cv_results_error = dummy_regressor_baseline(strategy = 'mean')\n",
    "baseline_constant_cv_results_error = dummy_regressor_baseline(strategy = 'constant', constant_val=2)\n",
    "baseline_quantile_cv_results_error = dummy_regressor_baseline(strategy = 'quantile', quantile_val=0.55)"
   ]
  },
  {
   "cell_type": "markdown",
   "metadata": {},
   "source": [
    "Let's compare the performance of these dummy regressors"
   ]
  },
  {
   "cell_type": "code",
   "execution_count": 7,
   "metadata": {},
   "outputs": [],
   "source": [
    "dummy_error_df = pd.concat([baseline_median_cv_results_error,\n",
    "                            baseline_mean_cv_results_error,\n",
    "                            baseline_constant_cv_results_error,\n",
    "                            baseline_quantile_cv_results_error],\n",
    "                            axis=1)\n",
    "            \n",
    "dummy_error_df.columns = ['Median cv', 'Mean cv', 'Constant cv', 'Quantile cv']"
   ]
  },
  {
   "cell_type": "code",
   "execution_count": 8,
   "metadata": {},
   "outputs": [
    {
     "data": {
      "image/png": "[encoded data removed]",
      "text/plain": [
       "<Figure size 432x288 with 1 Axes>"
      ]
     },
     "metadata": {
      "needs_background": "light"
     },
     "output_type": "display_data"
    }
   ],
   "source": [
    "dummy_error_df.plot.hist(bins=50, density=True, edgecolor=\"black\")\n",
    "plt.legend(bbox_to_anchor=(1.05, 0.8), loc=\"upper left\")\n",
    "plt.xlabel(\"Mean absolute error ($k$)\")\n",
    "_ = plt.title(\"Distribution of the testing errors\")"
   ]
  },
  {
   "cell_type": "markdown",
   "metadata": {},
   "source": [
    "## `permutation_test_score`\n",
    "\n",
    "It permutes the target to generate randomised data and computes the emperical p-value against the null hypothesis, that the features and targets are independent."
   ]
  },
  {
   "cell_type": "code",
   "execution_count": 9,
   "metadata": {},
   "outputs": [
    {
     "name": "stdout",
     "output_type": "stream",
     "text": [
      "[-0.91446539 -0.91608713 -0.91501122 -0.91112203 -0.91326112 -0.91428719\n",
      " -0.91694297 -0.90660687 -0.90873595 -0.91546138 -0.9084695  -0.91174023\n",
      " -0.91857102 -0.91467076 -0.90396709 -0.91239289 -0.91095499 -0.91729623\n",
      " -0.90529415 -0.91436609 -0.91993036 -0.91661883 -0.91104746 -0.91563156\n",
      " -0.91014294 -0.91526135 -0.90680247 -0.90796435 -0.91032999 -0.91545574]\n"
     ]
    }
   ],
   "source": [
    "score, permutation_score, pvalue = permutation_test_score(lin_reg_pipeline,\n",
    "                                                            train_features,\n",
    "                                                            train_labels,\n",
    "                                                            cv=shuffle_split_cv,\n",
    "                                                            scoring=\"neg_mean_absolute_error\",\n",
    "                                                            n_jobs=2, n_permutations=30)\n",
    "\n",
    "permutation_errors = pd.Series(-permutation_score, name=\"Permuted error\")\n",
    "\n",
    "print(permutation_score)"
   ]
  },
  {
   "cell_type": "markdown",
   "metadata": {},
   "source": [
    "## Model Comparison"
   ]
  },
  {
   "cell_type": "code",
   "execution_count": 1,
   "metadata": {},
   "outputs": [
    {
     "ename": "NameError",
     "evalue": "name 'pd' is not defined",
     "output_type": "error",
     "traceback": [
      "\u001b[0;31m---------------------------------------------------------------------------\u001b[0m",
      "\u001b[0;31mNameError\u001b[0m                                 Traceback (most recent call last)",
      "Cell \u001b[0;32mIn[1], line 1\u001b[0m\n\u001b[0;32m----> 1\u001b[0m error_df \u001b[38;5;241m=\u001b[39m \u001b[43mpd\u001b[49m\u001b[38;5;241m.\u001b[39mconcat([lin_reg_errors, baseline_median_cv_results_error, permutation_errors],\n\u001b[1;32m      2\u001b[0m                         axis \u001b[38;5;241m=\u001b[39m \u001b[38;5;241m1\u001b[39m)\n\u001b[1;32m      4\u001b[0m error_df\u001b[38;5;241m.\u001b[39mplot\u001b[38;5;241m.\u001b[39mhist(bins\u001b[38;5;241m=\u001b[39m\u001b[38;5;241m50\u001b[39m, density\u001b[38;5;241m=\u001b[39m\u001b[38;5;28;01mTrue\u001b[39;00m, edgecolor\u001b[38;5;241m=\u001b[39m\u001b[38;5;124m\"\u001b[39m\u001b[38;5;124mblack\u001b[39m\u001b[38;5;124m\"\u001b[39m)\n\u001b[1;32m      5\u001b[0m plt\u001b[38;5;241m.\u001b[39mlegend(loc\u001b[38;5;241m=\u001b[39m\u001b[38;5;124m\"\u001b[39m\u001b[38;5;124mbest\u001b[39m\u001b[38;5;124m\"\u001b[39m)\n",
      "\u001b[0;31mNameError\u001b[0m: name 'pd' is not defined"
     ]
    }
   ],
   "source": [
    "error_df = pd.concat([lin_reg_errors, baseline_median_cv_results_error, permutation_errors],\n",
    "                        axis = 1)\n",
    "\n",
    "error_df.plot.hist(bins=50, density=True, edgecolor=\"black\")\n",
    "plt.legend(loc=\"best\")\n",
    "plt.xlabel(\"Mean absolute error ($k$)\")\n",
    "_ = plt.title(\"Distribution of the testing errors\")"
   ]
  },
  {
   "cell_type": "code",
   "execution_count": null,
   "metadata": {},
   "outputs": [],
   "source": []
  }
 ],
 "metadata": {
  "interpreter": {
   "hash": "369f2c481f4da34e4445cda3fffd2e751bd1c4d706f27375911949ba6bb62e1c"
  },
  "kernelspec": {
   "display_name": "Python 3 (ipykernel)",
   "language": "python",
   "name": "python3"
  },
  "language_info": {
   "codemirror_mode": {
    "name": "ipython",
    "version": 3
   },
   "file_extension": ".py",
   "mimetype": "text/x-python",
   "name": "python",
   "nbconvert_exporter": "python",
   "pygments_lexer": "ipython3",
   "version": "3.10.12"
  }
 },
 "nbformat": 4,
 "nbformat_minor": 2
}
